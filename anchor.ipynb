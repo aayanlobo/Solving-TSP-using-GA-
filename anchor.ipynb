{
 "cells": [
  {
   "cell_type": "code",
   "execution_count": 169,
   "metadata": {},
   "outputs": [],
   "source": [
    "import random\n",
    "import copy\n",
    "import math\n",
    "import matplotlib.pyplot as plt\n",
    "\n"
   ]
  },
  {
   "cell_type": "code",
   "execution_count": 170,
   "metadata": {},
   "outputs": [],
   "source": [
    "#Initialization\n",
    "POPULATION_SIZE = 20\n",
    "CITIES_SIZE = 20\n",
    "TOUR_SIZE = 21\n",
    "NUM_EXECUTION = 10000\n",
    "population = []\n",
    "x = [1,1,2,2,2,4,4,5,6,6,6,7,8,8,9,10,10,10,11,11]\n",
    "y = [1,3,2,4,6,1,2,4,1,3,6,2,3,5,2,2,3,4,2,3]"
   ]
  },
  {
   "cell_type": "code",
   "execution_count": 171,
   "metadata": {},
   "outputs": [],
   "source": [
    "tour = [[0 for x in range(TOUR_SIZE)] for y in range(TOUR_SIZE)]\n",
    "dCidade = [[0 for x in range(POPULATION_SIZE)] for y in range(POPULATION_SIZE)]\n",
    "distances = [0 for x in range(POPULATION_SIZE)]\n",
    "parentOne = None\n",
    "parentTwo = None\n",
    "costByExecution = []"
   ]
  },
  {
   "cell_type": "code",
   "execution_count": 172,
   "metadata": {},
   "outputs": [],
   "source": [
    "def generateFirstPopulation():\n",
    "    for _ in range(1,POPULATION_SIZE + 1 ):\n",
    "        generatePossiblePath()"
   ]
  },
  {
   "cell_type": "code",
   "execution_count": 173,
   "metadata": {},
   "outputs": [],
   "source": [
    "def generatePossiblePath():\n",
    "    path = [1]\n",
    "    for _ in range(1,CITIES_SIZE - 1):\n",
    "        randomNum = random.randint(2,19)\n",
    "        while(numberExistsInPath(path,randomNum)):\n",
    "            randomNum = random.randint(2,19)\n",
    "        path.append(randomNum)\n",
    "    \n",
    "    path.append(20)\n",
    "    population.append(path)\n",
    "    #print(population)"
   ]
  },
  {
   "cell_type": "code",
   "execution_count": 174,
   "metadata": {},
   "outputs": [],
   "source": [
    "def numberExistsInPath(path,number):\n",
    "    for i in path:\n",
    "        if i == number:\n",
    "            return True\n",
    "    return False"
   ]
  },
  {
   "cell_type": "code",
   "execution_count": 175,
   "metadata": {},
   "outputs": [],
   "source": [
    "def generateTour():\n",
    "    global tour\n",
    "    tour = copy.deepcopy(population)\n",
    "    for ways in tour:\n",
    "        first = ways[0]\n",
    "        ways.append(first)"
   ]
  },
  {
   "cell_type": "code",
   "execution_count": 176,
   "metadata": {},
   "outputs": [],
   "source": [
    "def calculateDistances():\n",
    "    global distances \n",
    "    distances = [0 for x in range(CITIES_SIZE)]\n",
    "\n",
    "    #print(tour)\n",
    "\n",
    "    for i in range(len(population)):\n",
    "        for j in range(len(population[i])):\n",
    "\n",
    "            #print(j)\n",
    "\n",
    "            firstPos = 19 if tour[i][j] == 20 else tour[i][j]\n",
    "            secondPos = 19 if tour[i][j+1] == 20 else tour[i][j+1]\n",
    "            distances[i] += round(dCidade[firstPos][secondPos],4)\n",
    "    dict_dist = {i : distances[i] for i in range(0,len(distances))}\n",
    "    distances = copy.deepcopy(dict_dist)\n",
    "    return sorted(distances.items(),key =lambda kv: kv[1])\n",
    "    "
   ]
  },
  {
   "cell_type": "code",
   "execution_count": 177,
   "metadata": {},
   "outputs": [],
   "source": [
    "def fitnessFunction():\n",
    "    \n",
    "    for i in range(len(population)):\n",
    "        for j in range(len(population)):\n",
    "            dCidade[i][j] = round(math.sqrt(((x[i] - x[j])** 2) + ((y[i] - y[j])**2)),4)\n",
    "    return calculateDistances()"
   ]
  },
  {
   "cell_type": "code",
   "execution_count": 178,
   "metadata": {},
   "outputs": [],
   "source": [
    "def rouletteFunction(sorted_x):\n",
    "    global parentsOne\n",
    "    global parentsTwo\n",
    "    arr = []\n",
    "    rouletteArr = []\n",
    "    for i in range(10):\n",
    "        arr.append(sorted_x[i][0])\n",
    "    \n",
    "    for j in range(len(arr)):\n",
    "        for _ in range(10 - j):\n",
    "            rouletteArr.append(arr[j])\n",
    "    \n",
    "    parentsOne = createParents(rouletteArr)\n",
    "    parentsTwo = createParents(rouletteArr)\n",
    "    \n"
   ]
  },
  {
   "cell_type": "code",
   "execution_count": 179,
   "metadata": {},
   "outputs": [],
   "source": [
    "def createParents(rouletteArr):\n",
    "    parentArr = []\n",
    "    for _ in range(5):\n",
    "        parentArr.append(rouletteArr[random.randint(0,54)])\n",
    "    return parentArr"
   ]
  },
  {
   "cell_type": "code",
   "execution_count": 180,
   "metadata": {},
   "outputs": [],
   "source": [
    "def mutate(matrix):\n",
    "    for i in range(0,len(matrix)):\n",
    "        for _ in range(0,len(matrix[i])):\n",
    "            ranNum = random.randint(1,100)\n",
    "            if ranNum >= 1 and ranNum <= 5:\n",
    "                indexOne = random.randint(0 , 19)\n",
    "                indexTwo = random.randint(0,19)\n",
    "                auxOne = matrix[i][indexOne]\n",
    "                auxTwo = matrix[i][indexTwo]\n",
    "                matrix[i][indexOne] = auxTwo\n",
    "                matrix[i][indexTwo] = auxOne"
   ]
  },
  {
   "cell_type": "code",
   "execution_count": 181,
   "metadata": {},
   "outputs": [],
   "source": [
    "def hasDuplicity(auxArray,usedIndexes):\n",
    "    for i in range(len(auxArray)):\n",
    "        for j in range(i,len(auxArray)):\n",
    "            if i != j and auxArray[i] == auxArray[j]:\n",
    "                if i in usedIndexes:\n",
    "                    return j\n",
    "                else:\n",
    "                    return i\n",
    "    return -1\n",
    "\n",
    "def doCycle(sorted_x):\n",
    "    global population\n",
    "    children = []\n",
    "\n",
    "    for i in range(5):\n",
    "        parentOneAux = parentsOne[i]\n",
    "        parentTwoAux = parentsTwo[i]\n",
    "        usedIndexes = []\n",
    "\n",
    "        randomIndexInsideCromossomus = random.randint(0 , POPULATION_SIZE  - 1)\n",
    "\n",
    "        usedIndexes.append(randomIndexInsideCromossomus)\n",
    "\n",
    "        childOne = copy.deepcopy(population[parentOneAux])\n",
    "        childTwo = copy.deepcopy(population[parentTwoAux])\n",
    "\n",
    "        valAuxOne = childOne[randomIndexInsideCromossomus]\n",
    "        valAuxTwo = childTwo[randomIndexInsideCromossomus]\n",
    "\n",
    "        while(hasDuplicity(childOne,usedIndexes) != -1):\n",
    "            newIndex = hasDuplicity(childOne,usedIndexes)\n",
    "            usedIndexes.append(newIndex)\n",
    "\n",
    "            valAuxOne = childOne[newIndex]\n",
    "            valAuxTwo = childTwo[newIndex]\n",
    "\n",
    "            childOne[newIndex] = valAuxTwo\n",
    "            childTwo[newIndex] = valAuxOne\n",
    "\n",
    "        children.append(childOne)\n",
    "        children.append(childTwo)\n",
    "\n",
    "    mutate(children)\n",
    "    \n",
    "    tempPop  = copy.deepcopy(population)\n",
    "\n",
    "    for i in range(1,10):\n",
    "        population[i] = copy.deepcopy(tempPop[sorted_x[i][0]])\n",
    "\n",
    "    for j in range(10,POPULATION_SIZE):\n",
    "        population[j] = copy.deepcopy(children[j - 10])\n",
    "\n",
    "\n"
   ]
  },
  {
   "cell_type": "code",
   "execution_count": null,
   "metadata": {},
   "outputs": [],
   "source": []
  },
  {
   "cell_type": "code",
   "execution_count": 182,
   "metadata": {},
   "outputs": [
    {
     "name": "stdout",
     "output_type": "stream",
     "text": [
      "Total Population: 20\n",
      "Mutation Probability : 5%\n",
      "Number of cities: 20\n",
      "Optimal path cost: 31.429600000000004\n",
      "Best Route: [1, 12, 2, 7, 16, 19, 3, 14, 10, 17, 5, 18, 4, 11, 8, 6, 15, 13, 9, 20]\n",
      "Best route trajectory : \n",
      "1 1\n",
      "7 2\n",
      "1 3\n",
      "4 2\n",
      "10 2\n",
      "11 2\n",
      "2 2\n",
      "8 5\n",
      "6 3\n",
      "10 3\n",
      "2 6\n",
      "10 4\n",
      "2 4\n",
      "6 6\n",
      "5 4\n",
      "4 1\n",
      "9 2\n",
      "8 3\n",
      "6 1\n",
      "11 3\n"
     ]
    },
    {
     "data": {
      "image/png": "[encoded data removed]",
      "text/plain": [
       "<Figure size 432x288 with 1 Axes>"
      ]
     },
     "metadata": {
      "needs_background": "light"
     },
     "output_type": "display_data"
    },
    {
     "data": {
      "image/png": "[encoded data removed]",
      "text/plain": [
       "<Figure size 432x288 with 1 Axes>"
      ]
     },
     "metadata": {
      "needs_background": "light"
     },
     "output_type": "display_data"
    }
   ],
   "source": [
    "def main():\n",
    "    generateFirstPopulation()\n",
    "    # generateXandY()\n",
    "    generateTour()\n",
    "\n",
    "    for _ in range(NUM_EXECUTION):\n",
    "        sorted_x = fitnessFunction()\n",
    "        rouletteFunction(sorted_x)\n",
    "        doCycle(sorted_x)\n",
    "        generateTour()\n",
    "        costByExecution.append(sorted_x[0][1])\n",
    "    \n",
    "    sorted_x = fitnessFunction()\n",
    "\n",
    "   \n",
    "    a = []\n",
    "    b = []\n",
    "    \n",
    "    for i in range(20):\n",
    "        z = population[0][i]\n",
    "        a.append(x[z - 1])\n",
    "        b.append(y[z- 1])\n",
    "    \n",
    "    print('Total Population: %s' %(POPULATION_SIZE))\n",
    "    print('Mutation Probability : 5%')\n",
    "    print('Number of cities: %s' % (CITIES_SIZE))\n",
    "    print('Optimal path cost: %s' % sorted_x[0][1])\n",
    "    print('Best Route: %s' % population[0])\n",
    "    print(\"Best route trajectory : \")\n",
    "    for i in range(20):\n",
    "       \n",
    "        print(a[i],b[i])\n",
    "  \n",
    " \n",
    "\n",
    "    plt.plot(a,b)\n",
    "    plt.plot(a, b,'ro')\n",
    "\n",
    "\n",
    "# naming the x axis\n",
    "    plt.xlabel('x - axis')\n",
    "# naming the y axis\n",
    "    plt.ylabel('y - axis')\n",
    "\n",
    "# giving a title to my graph\n",
    "    plt.title('Path Traversed Graph')\n",
    "    for i in range(20):\n",
    "        #plt.annotate((a[i],b[i]),(a[i],b[i]))\n",
    "        plt.annotate(chr(64 + population[0][i]),(a[i],b[i]))\n",
    "    plt.show()\n",
    "\n",
    "    plt.plot(costByExecution)\n",
    "    plt.show()\n",
    "\n",
    "if __name__ == \"__main__\":\n",
    "    main()"
   ]
  }
 ],
 "metadata": {
  "interpreter": {
   "hash": "69ed427edff78ce175b86e697d446b86f044037ad3c111315ad3ba5b431f9cfb"
  },
  "kernelspec": {
   "display_name": "Python 3.9.6 64-bit",
   "name": "python3"
  },
  "language_info": {
   "codemirror_mode": {
    "name": "ipython",
    "version": 3
   },
   "file_extension": ".py",
   "mimetype": "text/x-python",
   "name": "python",
   "nbconvert_exporter": "python",
   "pygments_lexer": "ipython3",
   "version": "3.9.6"
  },
  "orig_nbformat": 4
 },
 "nbformat": 4,
 "nbformat_minor": 2
}
